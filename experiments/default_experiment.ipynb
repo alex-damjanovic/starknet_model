{
 "cells": [
  {
   "cell_type": "code",
   "execution_count": null,
   "metadata": {},
   "outputs": [],
   "source": [
    "import sys\n",
    "sys.path.append(\"..\")\n",
    "import pandas as pd\n",
    "import numpy as np\n",
    "import matplotlib.pyplot as plt\n",
    "import plotly.express as px\n",
    "\n",
    "from radcad import Model, Simulation, Experiment\n",
    "from radcad.engine import Engine, Backend\n",
    "\n",
    "from model import initial_variables, logic, system_parameters, state_update_blocks\n",
    "\n",
    "plt.figure(figsize=(10, 5))\n",
    "pd.options.plotting.backend = \"plotly\""
   ]
  },
  {
   "cell_type": "code",
   "execution_count": null,
   "metadata": {},
   "outputs": [],
   "source": [
    "initial_state = initial_variables.initial_state\n",
    "state_update_blocks = state_update_blocks.state_update_blocks\n",
    "system_params = system_parameters.system_params"
   ]
  },
  {
   "cell_type": "code",
   "execution_count": null,
   "metadata": {},
   "outputs": [],
   "source": [
    "TIMESTEPS = 1000\n",
    "RUNS = 1\n",
    "model = Model(initial_state=initial_state, state_update_blocks=state_update_blocks, params=system_params)\n",
    "simulation = Simulation(model=model, timesteps=TIMESTEPS, runs=RUNS)\n",
    "experiment = Experiment(simulation)\n",
    "# Select the Pathos backend to avoid issues with multiprocessing and Jupyter Notebooks\n",
    "experiment.engine = Engine(backend=Backend.PATHOS)\n",
    "\n",
    "result = experiment.run()"
   ]
  },
  {
   "cell_type": "code",
   "execution_count": null,
   "metadata": {},
   "outputs": [],
   "source": [
    "df = pd.DataFrame(result)\n",
    "df\n"
   ]
  },
  {
   "cell_type": "code",
   "execution_count": null,
   "metadata": {},
   "outputs": [],
   "source": [
    "import plotly.express as px\n",
    "\n",
    "plt.figure(figsize=(10, 5))\n",
    "\n",
    "df = df.query('subset==1')\n",
    "\n",
    "fig = px.scatter(\n",
    "    df,\n",
    "    x='prey_population',\n",
    "    y='predator_population',\n",
    "    color='timestep'\n",
    ")\n",
    "fig.show()\n",
    "\n",
    "df.plot(\n",
    "    kind='line',\n",
    "    x='timestep',\n",
    "    y=['predator_population','prey_population'])"
   ]
  }
 ],
 "metadata": {
  "kernelspec": {
   "display_name": "venv",
   "language": "python",
   "name": "python3"
  },
  "language_info": {
   "codemirror_mode": {
    "name": "ipython",
    "version": 3
   },
   "file_extension": ".py",
   "mimetype": "text/x-python",
   "name": "python",
   "nbconvert_exporter": "python",
   "pygments_lexer": "ipython3",
   "version": "3.9.6"
  },
  "orig_nbformat": 4
 },
 "nbformat": 4,
 "nbformat_minor": 2
}
